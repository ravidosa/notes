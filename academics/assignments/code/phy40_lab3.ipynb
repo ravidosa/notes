{
 "cells": [
  {
   "cell_type": "code",
   "execution_count": 1,
   "id": "88a20cfb",
   "metadata": {},
   "outputs": [],
   "source": [
    "#Lab 3: Sequences and Series\n",
    "#Lab Partners: Ravi Kini (working alone)\n",
    "%matplotlib inline\n",
    "import numpy as np"
   ]
  },
  {
   "cell_type": "code",
   "execution_count": 2,
   "id": "49f9baa0",
   "metadata": {},
   "outputs": [
    {
     "name": "stdout",
     "output_type": "stream",
     "text": [
      "3\n",
      "6\n",
      "9\n",
      "12\n"
     ]
    }
   ],
   "source": [
    "#3.1\n",
    "def mult(a,n):\n",
    "    for i in range(1, n + 1):\n",
    "        #loops from 1 to n (last value is excluded)\n",
    "        print(a * i)\n",
    "        #prints product of a and current value of i\n",
    "mult(3,4)\n",
    "#tests mult() with a = 3 and n = 4"
   ]
  },
  {
   "cell_type": "code",
   "execution_count": 3,
   "id": "f6c08376",
   "metadata": {},
   "outputs": [
    {
     "name": "stdout",
     "output_type": "stream",
     "text": [
      "1\n",
      "2\n",
      "3\n",
      "5\n",
      "8\n",
      "13\n",
      "21\n",
      "34\n"
     ]
    }
   ],
   "source": [
    "#3.2\n",
    "def fib(n):\n",
    "    fa = 0\n",
    "    fb = 1\n",
    "    #initialized first two fibonacci numbers(F_0 and F_1) as 0 and 1\n",
    "    for i in range(1, n + 1):\n",
    "    #loops from 1 to n (last value is excluded)\n",
    "        fc = fa + fb\n",
    "        print(fc)\n",
    "        #sums last two fibonnaci numbers to find next number and prints\n",
    "        fa = fb\n",
    "        fb = fc\n",
    "        #replaces F_{N-2} with F_{N-1} and F_{N-1} with F_N, preparing for\n",
    "        #next step in loop\n",
    "fib(8)"
   ]
  },
  {
   "cell_type": "code",
   "execution_count": 4,
   "id": "e67c271c",
   "metadata": {},
   "outputs": [
    {
     "name": "stdout",
     "output_type": "stream",
     "text": [
      "15\n",
      "55\n",
      "5050\n"
     ]
    }
   ],
   "source": [
    "#3.3\n",
    "def arith(n):\n",
    "    sum = 0\n",
    "    for j in range(1, n + 1):\n",
    "        sum = sum + j\n",
    "        #print(\"j: \", j, \"\\t sum: \", sum)\n",
    "    return sum\n",
    "print(arith(5))\n",
    "#should return 1 + 2 + 3 + 4 + 5 = 15\n",
    "print(arith(10))\n",
    "#should return 1 + 2 + 3 + 4 + 5 + 6 + 7 + 8 + 9 + 10 = 55\n",
    "print(arith(100))\n",
    "#should return 1 + 2 + ... + 100 = 5050"
   ]
  },
  {
   "cell_type": "code",
   "execution_count": 5,
   "id": "b3c1c39b",
   "metadata": {},
   "outputs": [
    {
     "name": "stdout",
     "output_type": "stream",
     "text": [
      "4.0\n",
      "True\n"
     ]
    }
   ],
   "source": [
    "#3.4\n",
    "import sys\n",
    "def geom(a, r, n):\n",
    "    sum = 0\n",
    "    for k in range(0, n + 1):\n",
    "        sum = sum + a * r ** k\n",
    "        #print(\"k: \", k, \"\\t sum: \", sum)\n",
    "    return sum\n",
    "print(geom(2, 0.5, 100))\n",
    "#should return 2/(1 - 0.5) = 4\n",
    "print(abs(geom(2, 0.5, 100) - 4) < 10*sys.float_info.epsilon)\n",
    "#agree within floating point precision"
   ]
  },
  {
   "cell_type": "code",
   "execution_count": 6,
   "id": "52f44da5",
   "metadata": {},
   "outputs": [
    {
     "name": "stdout",
     "output_type": "stream",
     "text": [
      "14.999999997555562\n",
      "False\n"
     ]
    }
   ],
   "source": [
    "#3.5\n",
    "import sys\n",
    "print(geom(3, 0.8, 100))\n",
    "#should return 3/(1 - 0.8) = 15\n",
    "print(abs(geom(3, 0.8, 100) - 15) < 10*sys.float_info.epsilon)\n",
    "#they do not agree exactly, or within floating point precision, will likely\n",
    "#agree within floating point precision as number of terms increase. running\n",
    "#with n = 156, 157, 158 returns an answer within floatin point precision"
   ]
  },
  {
   "cell_type": "code",
   "execution_count": 7,
   "id": "d21a8a4f",
   "metadata": {},
   "outputs": [
    {
     "name": "stdout",
     "output_type": "stream",
     "text": [
      "0.5263283711889468\n",
      "False\n"
     ]
    }
   ],
   "source": [
    "#3.6\n",
    "print(geom(1, -0.9, 100))\n",
    "#should return 1/(1 - -0.9) = 0.52631578947\n",
    "print(abs(geom(1, -0.9, 100) - 0.52631578947) < 10*sys.float_info.epsilon)\n",
    "#does not agree within floating point precision, slower to converge because\n",
    "#sign of terms alternate (alternating series), so alternates between\n",
    "#bigger and smaller than actual value"
   ]
  },
  {
   "cell_type": "code",
   "execution_count": 8,
   "id": "cf274b41",
   "metadata": {},
   "outputs": [
    {
     "name": "stdout",
     "output_type": "stream",
     "text": [
      "0\n",
      "1\n",
      "1\n",
      "2\n",
      "3\n",
      "5\n",
      "8\n",
      "13\n",
      "21\n"
     ]
    }
   ],
   "source": [
    "#3.7\n",
    "def fib(n):\n",
    "    #initialized first two fibonacci numbers(F_0 and F_1) as 0 and 1\n",
    "    fa = 0\n",
    "    fb = 1\n",
    "    if n <= 0:\n",
    "        #prints f_0 if only 0th term needed\n",
    "        print(fa)\n",
    "    elif n <= 1:\n",
    "        #prints f_1 if only up to 1st term needed\n",
    "        print(fa)\n",
    "        print(fb)\n",
    "    if n > 1:\n",
    "        print(fa)\n",
    "        print(fb)\n",
    "        for i in range(1, n + 1 - 1):\n",
    "        #loops from 1 to n (last value is excluded)\n",
    "            fc = fa + fb\n",
    "            print(fc)\n",
    "            #sums last two fibonnaci numbers to find next number and prints\n",
    "            fa = fb\n",
    "            fb = fc\n",
    "            #replaces F_{N-2} with F_{N-1} and F_{N-1} with F_N, preparing for\n",
    "            #next step in loop\n",
    "fib(8)"
   ]
  },
  {
   "cell_type": "code",
   "execution_count": 9,
   "id": "1775b6ff",
   "metadata": {},
   "outputs": [
    {
     "name": "stdout",
     "output_type": "stream",
     "text": [
      "15\n",
      "25\n",
      "95\n"
     ]
    }
   ],
   "source": [
    "#3.8\n",
    "def arith(a, n, d):\n",
    "    sum = 0\n",
    "    for j in range(0, n):\n",
    "        sum = sum + a + j * d\n",
    "        #print(\"j: \", j, \"\\t sum: \", sum)\n",
    "    return sum\n",
    "print(arith(1, 5, 1))\n",
    "#should return 1 + 2 + 3 + 4 + 5 = 15\n",
    "print(arith(1, 5, 2))\n",
    "#should return 1 + 3 + 5 + 7 + 9 = 25\n",
    "print(arith(5, 5, 7))\n",
    "#should return 5 + 12 + 19 + 26 + 33 = 95"
   ]
  },
  {
   "cell_type": "code",
   "execution_count": 10,
   "id": "bf3c4f91",
   "metadata": {},
   "outputs": [
    {
     "name": "stdout",
     "output_type": "stream",
     "text": [
      "5^2=3^2+4^2 is True\n",
      "*****\n",
      "12=3+4+5 is True\n",
      "13^2=5^2+12^2 is True\n",
      "*****\n",
      "30=5+12+13 is True\n",
      "34^2=16^2+30^2 is True\n",
      "*****\n",
      "80=16+30+34 is True\n",
      "89^2=39^2+80^2 is True\n",
      "*****\n",
      "208=39+80+89 is True\n",
      "233^2=105^2+208^2 is True\n",
      "*****\n",
      "546=105+208+233 is True\n",
      "610^2=272^2+546^2 is True\n",
      "*****\n",
      "1428=272+546+610 is True\n",
      "1597^2=715^2+1428^2 is True\n",
      "*****\n",
      "3740=715+1428+1597 is True\n",
      "4181^2=1869^2+3740^2 is True\n",
      "*****\n"
     ]
    }
   ],
   "source": [
    "#3.9\n",
    "def fibtri(n):\n",
    "    fa=3\n",
    "    fb=5\n",
    "    #initialized first two fibonacci numbers(F_0 and F_1) as 3 and 5\n",
    "    #so that first computed number is 8 (hyp of second fib triangle)\n",
    "    fbt=[3,4,fb]\n",
    "    #stores pythagorean triple with fb as hypotenuse\n",
    "    fct=[]\n",
    "    #stores pythagorean triple with fc as hypotenuse\n",
    "    print(\"{0}^2={1}^2+{2}^2 is\".format(fbt[2],fbt[0],fbt[1]),end=\" \")\n",
    "    print(fbt[2]**2 == fbt[0]**2+fbt[1]**2)\n",
    "    #checks that 5 is hypotenuse in pythagorean triple\n",
    "    print(\"*****\")\n",
    "    for i in range(1,n):\n",
    "    #loops from 1 to n-1 (last value is excluded)\n",
    "        fc=fa+fb\n",
    "        fa=fb\n",
    "        fb=fc\n",
    "        fc=fa+fb\n",
    "        #does fibbonacci summing twice to get the second next term\n",
    "        fct=[int(np.sqrt(fc**2-(fbt[0]+fbt[1]+fbt[2])**2)),fbt[0]+fbt[1]+fbt[2],fc]\n",
    "        #updates hypotenuse and middle side of fc triangle with fc and sum of sides\n",
    "        #of fbt\n",
    "        #smallest side calculated using pythagorean theorem and rounded down to\n",
    "        #nearest integer\n",
    "        #calculates sides of triangle with fc as hypotenuse\n",
    "        print(\"{0}={1}+{2}+{3} is\".format(fct[1],fbt[0],fbt[1],fbt[2]),end=\" \")\n",
    "        print(fct[1] == fbt[0]+fbt[1]+fbt[2])\n",
    "        #checks that sides of last triangle sum to middle side of new triangle\n",
    "        #(true by definition in this implementation)\n",
    "        print(\"{0}^2={1}^2+{2}^2 is\".format(fct[2],fct[0],fct[1]),end=\" \")\n",
    "        print(fct[2]**2 == fct[0]**2+fct[1]**2)\n",
    "        #checks that pythagorean theorem holds for new triangle,even after\n",
    "        #rounding (only true if smallest side is integer)\n",
    "        fbt=fct\n",
    "        fa=fb\n",
    "        fb=fc\n",
    "        print(\"*****\")\n",
    "        #replaces F_{N-2} with F_{N-1} and F_{N-1} with F_N and sides of last\n",
    "        #triangle with sides of new triangle, preparing for\n",
    "        #next step in loop\n",
    "fibtri(8)"
   ]
  }
 ],
 "metadata": {
  "kernelspec": {
   "display_name": "Python 3 (ipykernel)",
   "language": "python",
   "name": "python3"
  },
  "language_info": {
   "codemirror_mode": {
    "name": "ipython",
    "version": 3
   },
   "file_extension": ".py",
   "mimetype": "text/x-python",
   "name": "python",
   "nbconvert_exporter": "python",
   "pygments_lexer": "ipython3",
   "version": "3.9.13"
  }
 },
 "nbformat": 4,
 "nbformat_minor": 5
}
