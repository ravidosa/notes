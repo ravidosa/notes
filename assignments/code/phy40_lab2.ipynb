{
 "cells": [
  {
   "cell_type": "code",
   "execution_count": 1,
   "id": "89ca1dec",
   "metadata": {},
   "outputs": [],
   "source": [
    "#Lab 2: Binary Numbers\n",
    "#Lab Partners: Ravi Kini (working alone)\n",
    "%matplotlib inline\n",
    "import numpy as np"
   ]
  },
  {
   "cell_type": "code",
   "execution_count": 2,
   "id": "f051eb8a",
   "metadata": {},
   "outputs": [
    {
     "name": "stdout",
     "output_type": "stream",
     "text": [
      "<class 'int'>\n",
      "121\n",
      "<class 'float'>\n",
      "1.34\n",
      "<class 'bool'>\n",
      "False\n"
     ]
    }
   ],
   "source": [
    "#2.1\n",
    "a = 121\n",
    "print(type(a))\n",
    "print(a)\n",
    "a = 1.34\n",
    "print(type(a))\n",
    "print(a)\n",
    "a = False\n",
    "print(type(a))\n",
    "print(a)\n",
    "#checks type of 121, 1.34, and False using type() function"
   ]
  },
  {
   "cell_type": "code",
   "execution_count": 3,
   "id": "546dba04",
   "metadata": {},
   "outputs": [
    {
     "name": "stdout",
     "output_type": "stream",
     "text": [
      "True\n",
      "12\n",
      "5\n",
      "False\n"
     ]
    }
   ],
   "source": [
    "#2.2\n",
    "a = 12\n",
    "b = a\n",
    "print(a is b)\n",
    "#assigns b to value of a, checks equality (True)\n",
    "b = 5\n",
    "print(a)\n",
    "print(b)\n",
    "print(a is b)\n",
    "#reassigns b to 5, checks equality (False)\n",
    "#integers are immutable objects, so changing value of b\n",
    "#does not change value of a"
   ]
  },
  {
   "cell_type": "code",
   "execution_count": 4,
   "id": "b5f45f2a",
   "metadata": {},
   "outputs": [
    {
     "name": "stdout",
     "output_type": "stream",
     "text": [
      "True\n"
     ]
    }
   ],
   "source": [
    "#2.3\n",
    "a = 12\n",
    "b = 12\n",
    "print(a is b)\n",
    "#a and b refer to same object and memory address\n",
    "#(Integer with value 12)"
   ]
  },
  {
   "cell_type": "code",
   "execution_count": 5,
   "id": "e03a6e27",
   "metadata": {},
   "outputs": [
    {
     "name": "stdout",
     "output_type": "stream",
     "text": [
      "173766203193809456599982445949435627061939786100117250547173286503262376022458008465094333630120854338003194362163007597987225472483598640843335685441710193966274131338557192586399006789292714554767500194796127964596906605976605873665859580600161998556511368530960400907199253450604168622770350228527124626728538626805418833470107651091641919900725415994689920112219170907023561354484047025713734651608777544579846111001059482132180956689444108315785401642188044178788629853592228467331730519810763559577944882016286493908631503101121166109571682295769470379514531105239965209245314082665518579335511291525230373316486697786532335206274149240813489201828773854353041855598709390675430960381072270432383913542702130202430186637321862331068861776780211082856984506050024895394320139435868484643843368002496089956046419964019877586845530207748994394501505588146979082629871366088121763790555364513243984244004147636040219136443410377798011608722717131323621700159335786445601947601694025107888293017058178562647175461026384343438874861406516767158373279032321096262126551620255666605185789463207944391905756886829667520553014724372245300878786091700563444079107099009003380230356461989260377273986023281444076082783406824471703499844642915587790146384758051663547775336021829171033411043796977042190519657861762804226147480755555085278062866268677842432851421790544407006581148631979148571299417963950579210719961422405768071335213324842709316205032078384168750091017964584060285240107161561019930505687950233196051962261970932008838279760834318101044311710769457048672103958655016388894770892065267451228938951370237422841366052736174160431593023473217066764172949768821843606479073866252864377064398085101223216558344281956767163876579889759124956035672317578122141070933058555310274598884089982879647974020264495921703064439532898207943134374576254840272047075633856749514044298135927611328433323640657533550512376900773273703275329924651465759145114579174356770593439987135755889403613364529029604049868233807295134382284730745937309910703657676103447124097631074153287120040247837143656624045055614076111832245239612708339272798262887437416818440064925049838443370805645609424314780108030016683461562597569371539974003402697903023830108053034645133078208043917492087248958344081026378788915528519967248989338592027124423914083391771884524464968645052058218151010508471258285907685355807229880747677634789376\n"
     ]
    }
   ],
   "source": [
    "#2.4\n",
    "x = 2**8000\n",
    "print(x)\n",
    "#calcuates 8000th power of 2 using exponent operator"
   ]
  },
  {
   "cell_type": "code",
   "execution_count": 6,
   "id": "c7faa1ed",
   "metadata": {},
   "outputs": [
    {
     "name": "stdout",
     "output_type": "stream",
     "text": [
      "dec:   hex:    bin:\n",
      "64206  0xface  0b1111101011001110\n"
     ]
    }
   ],
   "source": [
    "#2.5\n",
    "print (\"dec:   hex:    bin:\")\n",
    "print(\"{0:<2d}  0x{0:01x}  0b{0:04b}\".format(64206))\n",
    "#0:<2d\n",
    "#    0 = index of parameter to format\n",
    "#    :< = left align\n",
    "#    2 = field width 2\n",
    "#0:01\n",
    "#    0 = index of parameter to format\n",
    "#    x = hex format lower case\n",
    "#    01 = field width 1\n",
    "#0:04b\n",
    "#    0 = index of parameter to format\n",
    "#    b = binary format\n",
    "#    04 = field width 4"
   ]
  },
  {
   "cell_type": "code",
   "execution_count": 7,
   "id": "5be34f6a",
   "metadata": {},
   "outputs": [
    {
     "name": "stdout",
     "output_type": "stream",
     "text": [
      "127\n",
      "63\n"
     ]
    }
   ],
   "source": [
    "#2.6\n",
    "print(2**7 - 1)\n",
    "#max sized unsigned integer w/ 7 bits -> 127\n",
    "print(2**6 - 1)\n",
    "#range of signed integers w/ 7 bits -> [-63,63] (total of 127 integers)"
   ]
  },
  {
   "cell_type": "code",
   "execution_count": 8,
   "id": "b432dd25",
   "metadata": {},
   "outputs": [],
   "source": [
    "#2.7\n",
    "#-2 + 2 = 0\n",
    "#-2 + 0b0010 = 0b10000 = 0b0000\n",
    "#-2 = 0b10000 - 0b0010 = 0b1110\n",
    "#-1 + -1\n",
    "# = 0b1111 + 0b1111\n",
    "# = 0b11110\n",
    "# = 0b1110\n",
    "# = -2"
   ]
  },
  {
   "cell_type": "code",
   "execution_count": 9,
   "id": "35301218",
   "metadata": {},
   "outputs": [
    {
     "name": "stdout",
     "output_type": "stream",
     "text": [
      "2.220446049250313e-16\n"
     ]
    }
   ],
   "source": [
    "#2.8\n",
    "import sys\n",
    "print(sys.float_info.epsilon)\n",
    "#imports and prints python floating point epsilon"
   ]
  },
  {
   "cell_type": "code",
   "execution_count": 10,
   "id": "d1ec53f3",
   "metadata": {},
   "outputs": [
    {
     "name": "stdout",
     "output_type": "stream",
     "text": [
      "2.220446049250313e-16\n"
     ]
    }
   ],
   "source": [
    "#2.9\n",
    "eps = 1.0\n",
    "while eps + 1 > 1:\n",
    "    eps = eps / 2\n",
    "eps = eps * 2\n",
    "print(eps)\n",
    "#determines python floating point epsilon by repeatedly dividing by 2\n",
    "#until epsilon + 1 evaluates to 1 (epsilon is the upper bound on rounding\n",
    "#error in floating point arithmetic)"
   ]
  },
  {
   "cell_type": "code",
   "execution_count": 11,
   "id": "e81702ab",
   "metadata": {},
   "outputs": [
    {
     "name": "stdout",
     "output_type": "stream",
     "text": [
      "2.220446049250313e-16\n"
     ]
    }
   ],
   "source": [
    "#2.10\n",
    "print(2**-52)\n",
    "#m_n can equal either 0 or 1, since m is in bit format. this means that\n",
    "#there are 2 options for the value for each of the 52 bits, resulting in\n",
    "#a total of 2**52 values, and a value of 2**-52 for machine epsilon"
   ]
  },
  {
   "cell_type": "code",
   "execution_count": 12,
   "id": "66e8d477",
   "metadata": {},
   "outputs": [
    {
     "name": "stdout",
     "output_type": "stream",
     "text": [
      "1.2246467991473532e-16\n",
      "False\n",
      "True\n"
     ]
    }
   ],
   "source": [
    "#2.11\n",
    "x = np.sin(np.pi)\n",
    "print(x)\n",
    "print(x==0)\n",
    "print(abs(x) < 10*sys.float_info.epsilon)\n",
    "#strict equality returns False due to rounding error, comparing to\n",
    "#x to 10 * epsilon instead of 0 allows for roundoff error"
   ]
  },
  {
   "cell_type": "code",
   "execution_count": 13,
   "id": "c4320a8f",
   "metadata": {},
   "outputs": [
    {
     "name": "stdout",
     "output_type": "stream",
     "text": [
      "False\n",
      "True\n"
     ]
    }
   ],
   "source": [
    "#2.12\n",
    "x = 0.1\n",
    "y = x + x + x\n",
    "print(y == 0.3)\n",
    "print(abs(y - 0.3) < 10*sys.float_info.epsilon)\n",
    "#similar 2.11, compares y - 0.3 to 10 * epsilon instead of y to 0.3"
   ]
  },
  {
   "cell_type": "code",
   "execution_count": 14,
   "id": "72326988",
   "metadata": {},
   "outputs": [
    {
     "name": "stdout",
     "output_type": "stream",
     "text": [
      "-2.4492935982947064e-16\n",
      "-0.0\n",
      "0.0\n"
     ]
    }
   ],
   "source": [
    "#2.13\n",
    "x = np.sin(2*np.pi)\n",
    "print(x)\n",
    "x = np.around(x, 15)\n",
    "print(x)\n",
    "x = np.around(x, 15)+0\n",
    "print(x)\n",
    "#rounds np.sin(2*np.pi) to the 15th decimal place. -0 indicates a negative\n",
    "#number was rounded."
   ]
  },
  {
   "cell_type": "code",
   "execution_count": 15,
   "id": "83d6eb20",
   "metadata": {},
   "outputs": [
    {
     "name": "stdout",
     "output_type": "stream",
     "text": [
      "5.00000000001234\n"
     ]
    }
   ],
   "source": [
    "#2.14\n",
    "a = 5;\n",
    "b = 1.234E-17;\n",
    "sum = 0\n",
    "for i in range(1000000):\n",
    "    sum = sum + b\n",
    "sum += 5\n",
    "print(sum)\n",
    "#b is less than machine epsilon, so adding it to sum = 5 results in 5. by \n",
    "#moving the addition of 5 to the end, sum is now larger than machine \n",
    "#epsilon when 5 is added, so the final value of sum is greater than 5"
   ]
  },
  {
   "cell_type": "code",
   "execution_count": 16,
   "id": "09c6af99",
   "metadata": {
    "scrolled": true
   },
   "outputs": [
    {
     "name": "stdout",
     "output_type": "stream",
     "text": [
      "0.0\n"
     ]
    }
   ],
   "source": [
    "#2.15\n",
    "z = 1 + 1j\n",
    "print((z * z.conjugate()).imag)\n",
    "#multiples complex number z by its conjugate found with method z.conjugate(), \n",
    "#then takes the imaginary part of that value through attribute .imag.\n",
    "#evaluates to 0 because product of complex number and conjugate is always\n",
    "#real"
   ]
  },
  {
   "cell_type": "code",
   "execution_count": 17,
   "id": "31a69589",
   "metadata": {},
   "outputs": [
    {
     "name": "stdout",
     "output_type": "stream",
     "text": [
      "3\n",
      "True\n"
     ]
    }
   ],
   "source": [
    "#2.16\n",
    "a = [1, 2, 3, 4, 5]\n",
    "b = a\n",
    "b[0] = 3\n",
    "print(a[0])\n",
    "print(a is b)\n",
    "#lists are immutable in python, so changing a value in b is reflected in a\n",
    "#because they refer to the same object. likewise, checking equality returns\n",
    "#True"
   ]
  },
  {
   "cell_type": "code",
   "execution_count": 18,
   "id": "a28076d4",
   "metadata": {},
   "outputs": [
    {
     "ename": "AttributeError",
     "evalue": "readonly attribute",
     "output_type": "error",
     "traceback": [
      "\u001b[1;31m---------------------------------------------------------------------------\u001b[0m",
      "\u001b[1;31mAttributeError\u001b[0m                            Traceback (most recent call last)",
      "Input \u001b[1;32mIn [18]\u001b[0m, in \u001b[0;36m<cell line: 3>\u001b[1;34m()\u001b[0m\n\u001b[0;32m      1\u001b[0m z1 \u001b[38;5;241m=\u001b[39m \u001b[38;5;241m1\u001b[39m \u001b[38;5;241m+\u001b[39m \u001b[38;5;241m1\u001b[39mj\n\u001b[0;32m      2\u001b[0m z2 \u001b[38;5;241m=\u001b[39m z1\n\u001b[1;32m----> 3\u001b[0m z2\u001b[38;5;241m.\u001b[39mreal \u001b[38;5;241m=\u001b[39m \u001b[38;5;241m-\u001b[39m\u001b[38;5;241m1\u001b[39m\n\u001b[0;32m      4\u001b[0m \u001b[38;5;28mprint\u001b[39m(z1 \u001b[38;5;129;01mis\u001b[39;00m z2)\n",
      "\u001b[1;31mAttributeError\u001b[0m: readonly attribute"
     ]
    }
   ],
   "source": [
    "z1 = 1 + 1j\n",
    "z2 = z1\n",
    "z2.real = -1\n",
    "print(z1 is z2)\n",
    "#complex numbers are immutable in python, like all numeric types. similar to\n",
    "#2.3, z1 and z2 refer to the same object (Complex with value 1 + 1j). data\n",
    "#types like lists are collections that can be added/removed to (mutable),\n",
    "#but immutable values cannot be altered after creation, instead you need to\n",
    "#create a new Complex object to refer to through something like\n",
    "#z2 = -1 + z2.imag"
   ]
  }
 ],
 "metadata": {
  "kernelspec": {
   "display_name": "Python 3 (ipykernel)",
   "language": "python",
   "name": "python3"
  },
  "language_info": {
   "codemirror_mode": {
    "name": "ipython",
    "version": 3
   },
   "file_extension": ".py",
   "mimetype": "text/x-python",
   "name": "python",
   "nbconvert_exporter": "python",
   "pygments_lexer": "ipython3",
   "version": "3.9.13"
  }
 },
 "nbformat": 4,
 "nbformat_minor": 5
}
