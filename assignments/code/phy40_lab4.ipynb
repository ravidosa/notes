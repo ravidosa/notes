{
 "cells": [
  {
   "cell_type": "code",
   "execution_count": 1,
   "id": "aa2ad008",
   "metadata": {},
   "outputs": [],
   "source": [
    "#Lab 4: The Quadratic Equation and Prime Numbers\n",
    "#Lab Partners: Ravi Kini (working alone)\n",
    "%matplotlib inline\n",
    "import numpy as np"
   ]
  },
  {
   "cell_type": "code",
   "execution_count": 2,
   "id": "6d522ebc",
   "metadata": {},
   "outputs": [
    {
     "name": "stdout",
     "output_type": "stream",
     "text": [
      "on index 0\n",
      "on index 10\n",
      "on index 20\n",
      "on index 30\n",
      "on index 40\n",
      "on index 50\n",
      "on index 60\n",
      "on index 70\n",
      "on index 80\n",
      "on index 90\n"
     ]
    }
   ],
   "source": [
    "#4.1\n",
    "for i in range(100):\n",
    "    if i % 10 == 0:\n",
    "        print(\"on index\", i)\n",
    "        #only prints if current index divisible by 10, so every 10 iterations"
   ]
  },
  {
   "cell_type": "code",
   "execution_count": 3,
   "id": "dbc0ec5d",
   "metadata": {},
   "outputs": [
    {
     "name": "stdout",
     "output_type": "stream",
     "text": [
      "solution 1: x = 1.0\n",
      "solution 1: x = 1.0\n",
      "solution 2: x = -1.0\n",
      "solution 1: x = 0.0  +  1.0 i\n",
      "solution 2: x = 0.0  -  1.0 i\n"
     ]
    }
   ],
   "source": [
    "#4.2\n",
    "def quad(a, b, c):\n",
    "    d = b ** 2 - 4 * a * c\n",
    "    if d == 0:\n",
    "        #one real root\n",
    "        print(\"solution 1: x =\", -b/(2 * a))\n",
    "    elif d > 0:\n",
    "        #two real roots\n",
    "        print(\"solution 1: x =\", (-b + np.sqrt(d))/(2 * a))\n",
    "        print(\"solution 2: x =\", (-b - np.sqrt(d))/(2 * a))\n",
    "    elif d < 0:\n",
    "        #two complex roots\n",
    "        print(\"solution 1: x =\",(-b)/(2*a),\" + \",np.sqrt(-d)/(2 * a),\"i\")\n",
    "        print(\"solution 2: x =\",(-b)/(2*a),\" - \",np.sqrt(-d)/(2 * a),\"i\")\n",
    "quad(1, -2, 1)\n",
    "quad(1, 0, -1)\n",
    "quad(1, 0, 1)"
   ]
  },
  {
   "cell_type": "code",
   "execution_count": 4,
   "id": "14ac9c28",
   "metadata": {},
   "outputs": [
    {
     "name": "stdout",
     "output_type": "stream",
     "text": [
      "solution 1: x = 2.0\n",
      "solution 2: x = 1.0\n",
      "solution 1: x = -5.0\n",
      "solution 1: x = 1.0  +  2.0 i\n",
      "solution 2: x = 1.0  -  2.0 i\n"
     ]
    }
   ],
   "source": [
    "#4.3\n",
    "quad(1, -3, 2)\n",
    "#should print x = 1 and x = 2\n",
    "quad(5, 50, 125)\n",
    "#should print x = -5\n",
    "quad(1, -2, 5)\n",
    "#should print x = 1 - 2i and x = 1 + 2i"
   ]
  },
  {
   "cell_type": "code",
   "execution_count": 5,
   "id": "070a2cb2",
   "metadata": {},
   "outputs": [
    {
     "name": "stdout",
     "output_type": "stream",
     "text": [
      "solution 1: x = -1.4999999999999998\n"
     ]
    }
   ],
   "source": [
    "#4.4\n",
    "#using original function prints\n",
    "#solution 1: x = -1.4999999999999998  +  1.862645149230957e-08 i\n",
    "#solution 2: x = -1.4999999999999998  -  1.862645149230957e-08 i\n",
    "import sys\n",
    "\n",
    "def quad(a, b, c):\n",
    "    d = b ** 2 - 4 * a * c\n",
    "    if np.abs(d) < 10*sys.float_info.epsilon:\n",
    "        #one real root\n",
    "        print(\"solution 1: x =\", -b/(2 * a))\n",
    "    elif d > 0:\n",
    "        #two real roots\n",
    "        print(\"solution 1: x =\", (-b + np.sqrt(d))/(2 * a))\n",
    "        print(\"solution 2: x =\", (-b - np.sqrt(d))/(2 * a))\n",
    "    elif d < 0:\n",
    "        #two complex roots\n",
    "        print(\"solution 1: x =\",(-b)/(2*a),\" + \",np.sqrt(-d)/(2 * a),\"i\")\n",
    "        print(\"solution 2: x =\",(-b)/(2*a),\" - \",np.sqrt(-d)/(2 * a),\"i\")\n",
    "quad(0.1, 0.3, 0.225)"
   ]
  },
  {
   "cell_type": "code",
   "execution_count": 6,
   "id": "a974e216",
   "metadata": {},
   "outputs": [
    {
     "name": "stdout",
     "output_type": "stream",
     "text": [
      "False\n",
      "True\n",
      "True\n",
      "False\n"
     ]
    }
   ],
   "source": [
    "#4.5\n",
    "def isprime(a):\n",
    "    if a < 2:\n",
    "        return False\n",
    "    i = 2\n",
    "    while i <= np.sqrt(a):\n",
    "        if a % i == 0:\n",
    "            return False\n",
    "        i = i + 1\n",
    "    return True\n",
    "print(isprime(1))\n",
    "print(isprime(5))\n",
    "print(isprime(101))\n",
    "print(isprime(111))"
   ]
  },
  {
   "cell_type": "code",
   "execution_count": 7,
   "id": "c0483af9",
   "metadata": {},
   "outputs": [
    {
     "name": "stdout",
     "output_type": "stream",
     "text": [
      "2\n",
      "3\n",
      "5\n",
      "7\n",
      "11\n",
      "13\n",
      "17\n",
      "19\n",
      "23\n",
      "29\n",
      "********\n",
      "1000000007\n",
      "1000000009\n",
      "1000000021\n",
      "1000000033\n",
      "1000000087\n",
      "1000000093\n",
      "1000000097\n",
      "1000000103\n",
      "1000000123\n",
      "1000000181\n"
     ]
    }
   ],
   "source": [
    "#4.6\n",
    "A = 0\n",
    "n = 0\n",
    "while n < 10:\n",
    "    if isprime(A):\n",
    "        print(A)\n",
    "        n = n + 1\n",
    "    A = A + 1\n",
    "print(\"********\")\n",
    "A = 1000000000\n",
    "n = 0\n",
    "while n < 10:\n",
    "    if isprime(A):\n",
    "        print(A)\n",
    "        n = n + 1\n",
    "    A = A + 1"
   ]
  },
  {
   "cell_type": "code",
   "execution_count": 8,
   "id": "ae2456fd",
   "metadata": {},
   "outputs": [
    {
     "name": "stdout",
     "output_type": "stream",
     "text": [
      "5/6\n"
     ]
    }
   ],
   "source": [
    "#4.7\n",
    "def gcd(a, b):\n",
    "    while(b):\n",
    "        a, b = b, a % b\n",
    "    return abs(a)\n",
    "    #compute gcd of a and b\n",
    "\n",
    "def addfrac(a, b, c, d):\n",
    "    n = a * d + b * c\n",
    "    m = b * d\n",
    "    return int(n / gcd(n, m)), int(m / gcd(n, m))\n",
    "#dividing numerator and denominator by their gcd reduces to lowest terms\n",
    "n, d = addfrac(1,2,1,3)\n",
    "print(\"{0}/{1}\".format(n,d))"
   ]
  },
  {
   "cell_type": "code",
   "execution_count": 9,
   "id": "0e380c6d",
   "metadata": {},
   "outputs": [
    {
     "name": "stdout",
     "output_type": "stream",
     "text": [
      "the max value of n is 70 for a = -61 , b = 971\n"
     ]
    }
   ],
   "source": [
    "#4.8\n",
    "A = 0\n",
    "nl = []\n",
    "while A < 1000:\n",
    "    if isprime(A):\n",
    "        nl.append(A)\n",
    "    A = A + 1\n",
    "#list of primes under 1000\n",
    "\n",
    "nmax = (1, 41, 39)\n",
    "#set baseline as euler's formula\n",
    "for a in range(-1000, 1001):\n",
    "    for b in nl:\n",
    "        #b has to be positive prime for k = 0 to return a prime\n",
    "        #decreases computation time vs checking from -1000 to 1000\n",
    "        n = 0\n",
    "        while isprime(n ** 2 + a * n + b):\n",
    "            n = n + 1\n",
    "            #increment n while prime fulfilled\n",
    "        n = n - 1\n",
    "        #compensate for extra increment\n",
    "        #print(n)\n",
    "        if n > nmax[0]:\n",
    "            nmax = (n, a, b)\n",
    "            #replace nmax if higher n found\n",
    "print(\"the max value of n is\", nmax[0], \"for a =\", nmax[1],\", b =\", nmax[2])"
   ]
  }
 ],
 "metadata": {
  "kernelspec": {
   "display_name": "Python 3 (ipykernel)",
   "language": "python",
   "name": "python3"
  },
  "language_info": {
   "codemirror_mode": {
    "name": "ipython",
    "version": 3
   },
   "file_extension": ".py",
   "mimetype": "text/x-python",
   "name": "python",
   "nbconvert_exporter": "python",
   "pygments_lexer": "ipython3",
   "version": "3.9.13"
  }
 },
 "nbformat": 4,
 "nbformat_minor": 5
}
